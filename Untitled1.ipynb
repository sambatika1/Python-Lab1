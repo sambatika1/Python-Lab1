{
 "cells": [
  {
   "cell_type": "code",
   "execution_count": null,
   "id": "b6eea71d",
   "metadata": {},
   "outputs": [],
   "source": [
    "a = \"Spring\""
   ]
  },
  {
   "cell_type": "code",
   "execution_count": null,
   "id": "4539daca",
   "metadata": {},
   "outputs": [],
   "source": [
    "x = 1"
   ]
  },
  {
   "cell_type": "code",
   "execution_count": null,
   "id": "d0509eb0",
   "metadata": {},
   "outputs": [],
   "source": [
    "y = 2.2"
   ]
  },
  {
   "cell_type": "code",
   "execution_count": null,
   "id": "757fdd31",
   "metadata": {},
   "outputs": [],
   "source": [
    "b = c = d  = \"Milak\""
   ]
  },
  {
   "cell_type": "code",
   "execution_count": null,
   "id": "9637d701",
   "metadata": {},
   "outputs": [],
   "source": [
    "a ,b ,c = \"a\" , \"b\" , \"C\""
   ]
  },
  {
   "cell_type": "code",
   "execution_count": null,
   "id": "2e41660b",
   "metadata": {},
   "outputs": [],
   "source": []
  }
 ],
 "metadata": {
  "kernelspec": {
   "display_name": "Python 3 (ipykernel)",
   "language": "python",
   "name": "python3"
  },
  "language_info": {
   "codemirror_mode": {
    "name": "ipython",
    "version": 3
   },
   "file_extension": ".py",
   "mimetype": "text/x-python",
   "name": "python",
   "nbconvert_exporter": "python",
   "pygments_lexer": "ipython3",
   "version": "3.11.1"
  }
 },
 "nbformat": 4,
 "nbformat_minor": 5
}
